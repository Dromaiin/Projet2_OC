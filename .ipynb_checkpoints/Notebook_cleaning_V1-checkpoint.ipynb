{
 "cells": [
  {
   "cell_type": "markdown",
   "metadata": {},
   "source": [
    "# Concevez une application de santé publique"
   ]
  },
  {
   "cell_type": "markdown",
   "metadata": {},
   "source": [
    "## Nettoyage des données"
   ]
  },
  {
   "cell_type": "code",
   "execution_count": 1,
   "metadata": {},
   "outputs": [],
   "source": [
    "import numpy as np\n",
    "import pandas as pd\n",
    "import seaborn as sns\n",
    "import matplotlib.pyplot as plt\n",
    "import os"
   ]
  },
  {
   "cell_type": "code",
   "execution_count": 2,
   "metadata": {},
   "outputs": [
    {
     "data": {
      "text/plain": [
       "'C:\\\\Users\\\\doare\\\\OneDrive\\\\Bureau\\\\IML_Projet_2'"
      ]
     },
     "execution_count": 2,
     "metadata": {},
     "output_type": "execute_result"
    },
    {
     "data": {
      "text/plain": [
       "'C:\\\\Users\\\\doare\\\\OneDrive\\\\Bureau\\\\IML_Projet_2'"
      ]
     },
     "execution_count": 2,
     "metadata": {},
     "output_type": "execute_result"
    }
   ],
   "source": [
    "os.getcwd()"
   ]
  },
  {
   "cell_type": "code",
   "execution_count": 3,
   "metadata": {},
   "outputs": [],
   "source": [
    "os.chdir('C:\\\\Users\\\\doare\\\\OneDrive\\\\Bureau\\\\IML_Projet_2')"
   ]
  },
  {
   "cell_type": "markdown",
   "metadata": {},
   "source": [
    "#### Dictionnaire de fonction"
   ]
  },
  {
   "cell_type": "code",
   "execution_count": 4,
   "metadata": {},
   "outputs": [],
   "source": [
    "# Création d'une fonction pour supprimer les valeurs manquantes par colonne\n",
    "def supprimer_colonne_vide(data : pd.DataFrame , pourcentage_val_manquantes : float) -> pd.DataFrame:\n",
    "    \"\"\"\n",
    "    Fonction pour supprimer des colonnes en spécifiant le pourcentage de valeurs manquantes dans la colonne\n",
    "    \"\"\"\n",
    "    colonne_a_garder = []\n",
    "    for colonne in data.columns:\n",
    "        if data[colonne].isna().sum()/data.shape[0] <= pourcentage_val_manquantes:\n",
    "            colonne_a_garder.append(colonne)\n",
    "    return data[colonne_a_garder]\n",
    "\n",
    "# Création fonction pour observer les valeurs manquantes par colonne\n",
    "def pourcentage_val_manquantes(data : pd.DataFrame):\n",
    "    \"\"\"\n",
    "    Fonction qui sort un DataFrame avec 3 colonnes, les variables, le pourcentage de valeurs manquantes par variable et le nombre de valeurs manquantes\n",
    "    \"\"\"\n",
    "    dataframe = pd.DataFrame(columns=['Variable', 'Pourcentage_valeurs_manquantes','Valeurs_manquantes'])\n",
    "    dataframe['Variable'] = data.columns\n",
    "    val_manquantes = list()\n",
    "    val_manquantes_pourcentage = list()\n",
    "    for col in data.columns:\n",
    "        val1 = data[col].isna().sum().sum()\n",
    "        val2 = data[col].isna().sum()/data.shape[0]\n",
    "        val_manquantes.append(val1)\n",
    "        val_manquantes_pourcentage.append(val2)\n",
    "    dataframe['Pourcentage_valeurs_manquantes'] = list(val_manquantes_pourcentage)\n",
    "    dataframe['Valeurs_manquantes'] = list(val_manquantes)\n",
    "        \n",
    "    return dataframe.sort_values(by = 'Pourcentage_valeurs_manquantes', ascending = False)\n",
    "\n",
    "# Création fonction pour observer sous forme de graphique en bar le % de valeurs manquantes par colonne\n",
    "def plot_pourcentage_val_manquantes_par_variable(data: pd.DataFrame, sample=False):\n",
    "    \"\"\"\n",
    "    Mettre un échantillon du jeu de données si le dataset est trop lourd\n",
    "    Permet d'afficher le pourcentage de valeur manquantes/non manquantes par variable sous forme de graphique en bar\n",
    "    \"\"\"\n",
    "    if sample:\n",
    "        subdata = data.sample(frac=0.5)\n",
    "    else:\n",
    "        subdata = data\n",
    "    sns.displot(data=subdata.isna().melt(value_name=\"missing\"),y=\"variable\",hue=\"missing\",multiple=\"fill\",aspect=3.25)\n",
    "    plt.gcf().set_size_inches(20, 30)\n",
    "\n",
    "\n",
    "#Remplacer valeur manquantes pas un string\n",
    "def remplacer_valeurs_manquantes_string(data: pd.DataFrame, colonne: str, valeur: str) -> pd.DataFrame:\n",
    "    \"\"\"\n",
    "    Renseigner le jeu de données ainsi que la colonne dans laquelle on veut remplacer les valeurs. Enfin, il faut écrire par quoi on veut remplacer les valeurs manquantes\n",
    "    \"\"\"\n",
    "    data[colonne] = data[colonne].fillna(valeur)"
   ]
  },
  {
   "cell_type": "code",
   "execution_count": null,
   "metadata": {},
   "outputs": [
    {
     "name": "stderr",
     "output_type": "stream",
     "text": [
      "C:\\Users\\doare\\AppData\\Local\\Temp\\ipykernel_6640\\332731635.py:1: DtypeWarning: Columns (0,9,10,12,13,14,15,21,22,23,24,25,26,27,28,29,30,31,33,34,35,42,44,45,46,47,49,51,52,53,55,65,70,87,148) have mixed types. Specify dtype option on import or set low_memory=False.\n",
      "  df = pd.read_csv('en.openfoodfacts.org.products (1).csv', sep='\\t')\n",
      "C:\\Users\\doare\\AppData\\Local\\Temp\\ipykernel_6640\\332731635.py:1: DtypeWarning: Columns (0,9,10,12,13,14,15,21,22,23,24,25,26,27,28,29,30,31,33,34,35,42,44,45,46,47,49,51,52,53,55,65,70,87,148) have mixed types. Specify dtype option on import or set low_memory=False.\n",
      "  df = pd.read_csv('en.openfoodfacts.org.products (1).csv', sep='\\t')\n"
     ]
    }
   ],
   "source": [
    "df = pd.read_csv('en.openfoodfacts.org.products (1).csv', sep='\\t')\n",
    "df.shape"
   ]
  },
  {
   "cell_type": "markdown",
   "metadata": {},
   "source": [
    "Nous avons beaucoup de colonnes et plusieurs ont l'air vide ou du moins comporter beaucoup de valeurs manquantes. On va donc venir supprimer les colonnes inutiles afin de réduire nos variables."
   ]
  },
  {
   "cell_type": "code",
   "execution_count": null,
   "metadata": {},
   "outputs": [],
   "source": [
    "#Visualisation de nombre de valeurs manquantes par colonne\n",
    "plot_pourcentage_val_manquantes_par_variable(df, sample=True)"
   ]
  },
  {
   "cell_type": "code",
   "execution_count": null,
   "metadata": {},
   "outputs": [],
   "source": [
    "df_prep = supprimer_colonne_vide(df, .9)\n",
    "df_prep.shape"
   ]
  },
  {
   "cell_type": "markdown",
   "metadata": {},
   "source": [
    "Après avoir supprimer les colonnes les plus vides (au moins 90%) de valeurs manquantes on passe de 200 colonnes à 74. Cependant beaucoup d'entre elles possèdent encore de nombreuses valeurs manquantes. On va donc essayer de réduire ce nombre de variable et également choisir des produits qui ont assez d'informations."
   ]
  },
  {
   "cell_type": "code",
   "execution_count": null,
   "metadata": {},
   "outputs": [],
   "source": [
    "_ = pourcentage_val_manquantes(df_prep)\n",
    "_.head(50)"
   ]
  },
  {
   "cell_type": "markdown",
   "metadata": {},
   "source": [
    "Afin de se rendre mieux comprendre des variables, nous allons nous focaliser sur un produit. Nous allons regarder sur le ketchup."
   ]
  },
  {
   "cell_type": "code",
   "execution_count": null,
   "metadata": {},
   "outputs": [],
   "source": [
    "df_ketchup = df_prep[(df_prep['product_name'] == 'Ketchup')]\n",
    "df_ketchup.head(5)"
   ]
  },
  {
   "cell_type": "code",
   "execution_count": null,
   "metadata": {},
   "outputs": [],
   "source": [
    "df_prod_sans_na = df_prep[df_prep[\"product_name\"].notna() & df_prep[\"nutriscore_grade\"].notna() & df_prep[\"pnns_groups_2\"].notna() & df_prep[\"main_category_en\"].notna() & df_prep[\"nova_group\"].notna() & df_prep[\"ecoscore_grade\"].notna()]\n",
    "\n",
    "print(f\"Nombre de lignes ou nous avons des données essentielles: {df_prod_sans_na.shape[0]} produits soit {df_prod_sans_na.shape[0]/df_prep.shape[0]*100:.2f}% de notre jeu de données de base.\")"
   ]
  },
  {
   "cell_type": "code",
   "execution_count": null,
   "metadata": {},
   "outputs": [],
   "source": [
    "_ = pourcentage_val_manquantes(df_prod_sans_na)\n",
    "pd.set_option('display.max_rows', None)\n",
    "_.head(74)"
   ]
  },
  {
   "cell_type": "markdown",
   "metadata": {},
   "source": [
    "Parmi les 74 variables restantes, elles ont presque toutes moins de 60% de valeurs manquantes ce qui est acceptable pour la suite. "
   ]
  },
  {
   "cell_type": "code",
   "execution_count": null,
   "metadata": {},
   "outputs": [],
   "source": [
    "#Regarder valeur présentes dans la colonne\n",
    "df_prod_sans_na['countries_en'].unique()"
   ]
  },
  {
   "cell_type": "markdown",
   "metadata": {},
   "source": [
    "Nous allons garder des colonnes qui contiennent :\n",
    "   <br> - des informations générales sur le produit (product_name, brands, pnns_groups, localisation )\n",
    "   <br> - des informations environnementales (packaging, huile de palme)\n",
    "   <br> - des informations sur la qualité du produit (additifs, infos nutritionnels tels que le nutriscore et les variables quantitatives pour 100g )\n",
    "\n"
   ]
  },
  {
   "cell_type": "code",
   "execution_count": null,
   "metadata": {},
   "outputs": [],
   "source": [
    "df_filtre = df_prod_sans_na.loc[:, [\"code\",\"product_name\",\"brands\", \"pnns_groups_1\", \"pnns_groups_2\",\"categories\",\"main_category_en\", \"countries_en\",\"sugars_100g\",\"salt_100g\",\"sodium_100g\",\"proteins_100g\",\"energy_100g\",\"energy-kcal_100g\",\n",
    "\"carbohydrates_100g\",\"saturated-fat_100g\",\"fat_100g\",\"fiber_100g\",\"additives_n\",\"nutriscore_grade\",\"nova_group\",\"ecoscore_grade\"]]"
   ]
  },
  {
   "cell_type": "code",
   "execution_count": null,
   "metadata": {},
   "outputs": [],
   "source": [
    "df_filtre.shape"
   ]
  },
  {
   "cell_type": "code",
   "execution_count": null,
   "metadata": {},
   "outputs": [],
   "source": [
    "df_filtre.head()"
   ]
  },
  {
   "cell_type": "code",
   "execution_count": null,
   "metadata": {},
   "outputs": [],
   "source": [
    "df_filtre.dtypes"
   ]
  },
  {
   "cell_type": "markdown",
   "metadata": {},
   "source": [
    "On peut voir que notre variable energy_100g est mal formaté, on va donc la transformer en float."
   ]
  },
  {
   "cell_type": "code",
   "execution_count": null,
   "metadata": {},
   "outputs": [],
   "source": [
    "df_filtre['energy_100g'] = df_filtre['energy_100g'].astype('float64')"
   ]
  },
  {
   "cell_type": "code",
   "execution_count": null,
   "metadata": {},
   "outputs": [],
   "source": [
    "df_filtre.dtypes"
   ]
  },
  {
   "cell_type": "code",
   "execution_count": null,
   "metadata": {},
   "outputs": [],
   "source": [
    "df_filtre.isna().sum()"
   ]
  },
  {
   "cell_type": "markdown",
   "metadata": {},
   "source": [
    "Nous pouvons voir que certaines colonnes comportent encore des valeurs manquantes. Nous avons des valeurs manquantes pour deux types de variables, des variables quantitatives (nous allons donc imputer un valeur au lieu de les supprimer), une variable qualitative (la marque dans laquel nous ne pourrons rien faire)"
   ]
  },
  {
   "cell_type": "code",
   "execution_count": null,
   "metadata": {},
   "outputs": [],
   "source": [
    "#remplacer valeur manquantes de brands par 'non renseignée'\n",
    "remplacer_valeurs_manquantes_string(df_filtre,'brands', 'Non renseigné')\n",
    "\n",
    "#remplacer valeur manquantes de countries_en par 'non renseignée'\n",
    "remplacer_valeurs_manquantes_string(df_filtre,'countries_en', 'Non renseigné')"
   ]
  },
  {
   "cell_type": "code",
   "execution_count": null,
   "metadata": {},
   "outputs": [],
   "source": [
    "df_filtre.isna().sum()"
   ]
  },
  {
   "cell_type": "markdown",
   "metadata": {},
   "source": [
    "#### Finir valeurs manquantes, calcul outliers (supprimer/borner si il faut)"
   ]
  },
  {
   "cell_type": "code",
   "execution_count": null,
   "metadata": {},
   "outputs": [],
   "source": [
    "df_filtre.describe()"
   ]
  },
  {
   "cell_type": "markdown",
   "metadata": {},
   "source": [
    "Premièrement, on peut voir que certaines valeurs sont négatives, on va donc les supprimer. De plus, On observe que les valeurs maximum de nos variables sont supérieurs à 100 or ce sont des données pour 100g. On va donc supprimer toutes ces données aberrantes."
   ]
  },
  {
   "cell_type": "code",
   "execution_count": null,
   "metadata": {},
   "outputs": [],
   "source": [
    "colonne_100g = ['sugars_100g','salt_100g','sodium_100g','proteins_100g','energy_100g','energy-kcal_100g','carbohydrates_100g','carbohydrates_100g','saturated-fat_100g','fat_100g','fiber_100g']\n",
    "df_copie = df_filtre.copy()\n",
    "for col in colonne_100g:\n",
    "    df_copie = df_copie.loc[((df_copie[col]>=0)&(df_copie[col]<=100)) | (df_copie[col].isna()),:]\n"
   ]
  },
  {
   "cell_type": "code",
   "execution_count": null,
   "metadata": {},
   "outputs": [],
   "source": [
    "df_copie.describe()"
   ]
  },
  {
   "cell_type": "code",
   "execution_count": null,
   "metadata": {},
   "outputs": [],
   "source": [
    "test_pnns_groups_2 = df_copie.groupby(by=[\"pnns_groups_2\"]).mean()\n",
    "test_pnns_groups_2.head(15)"
   ]
  },
  {
   "cell_type": "code",
   "execution_count": null,
   "metadata": {},
   "outputs": [],
   "source": []
  },
  {
   "cell_type": "code",
   "execution_count": null,
   "metadata": {},
   "outputs": [],
   "source": []
  },
  {
   "cell_type": "code",
   "execution_count": null,
   "metadata": {},
   "outputs": [],
   "source": []
  }
 ],
 "metadata": {
  "kernelspec": {
   "display_name": "Python 3 (ipykernel)",
   "language": "python",
   "name": "python3"
  },
  "language_info": {
   "codemirror_mode": {
    "name": "ipython",
    "version": 3
   },
   "file_extension": ".py",
   "mimetype": "text/x-python",
   "name": "python",
   "nbconvert_exporter": "python",
   "pygments_lexer": "ipython3",
   "version": "3.9.12"
  }
 },
 "nbformat": 4,
 "nbformat_minor": 2
}
